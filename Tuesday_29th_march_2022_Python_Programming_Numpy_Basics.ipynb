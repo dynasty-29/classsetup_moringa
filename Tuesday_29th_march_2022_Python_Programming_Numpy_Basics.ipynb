{
  "nbformat": 4,
  "nbformat_minor": 0,
  "metadata": {
    "colab": {
      "name": "Tuesday 29th march 2022 Python Programming - Numpy Basics",
      "provenance": [],
      "collapsed_sections": [],
      "include_colab_link": true
    },
    "kernelspec": {
      "name": "python3",
      "display_name": "Python 3"
    }
  },
  "cells": [
    {
      "cell_type": "markdown",
      "metadata": {
        "id": "view-in-github",
        "colab_type": "text"
      },
      "source": [
        "<a href=\"https://colab.research.google.com/github/dynasty-29/classsetup_moringa/blob/main/Tuesday_29th_march_2022_Python_Programming_Numpy_Basics.ipynb\" target=\"_parent\"><img src=\"https://colab.research.google.com/assets/colab-badge.svg\" alt=\"Open In Colab\"/></a>"
      ]
    },
    {
      "cell_type": "markdown",
      "metadata": {
        "id": "c_BBfbCEZfDT"
      },
      "source": [
        "<font color=\"green\">*To start working on this notebook, or any other notebook that we will use in the Moringa Data Science Course, we will need to save our own copy of it. We can do this by clicking File > Save a Copy in Drive. We will then be able to make edits to our own copy of this notebook.*</font>"
      ]
    },
    {
      "cell_type": "markdown",
      "metadata": {
        "id": "dZSJZP9809aH"
      },
      "source": [
        "# Python Programming - Numpy Basics"
      ]
    },
    {
      "cell_type": "markdown",
      "metadata": {
        "id": "jZatZRIbkDz7"
      },
      "source": [
        "## 1.0 Importing our Library"
      ]
    },
    {
      "cell_type": "code",
      "metadata": {
        "id": "HZ5j-AjX6ae-"
      },
      "source": [
        "# We will first import the numpy library, so that we can leverage external functionalities \n",
        "# that do not come with python\n",
        "# \n",
        "import numpy as np"
      ],
      "execution_count": null,
      "outputs": []
    },
    {
      "cell_type": "markdown",
      "metadata": {
        "id": "c2bpaw2E1Afv"
      },
      "source": [
        "## 1.1 Creating Arrays"
      ]
    },
    {
      "cell_type": "code",
      "metadata": {
        "id": "ToZ19MKQ06NI",
        "colab": {
          "base_uri": "https://localhost:8080/"
        },
        "outputId": "56458771-d696-48ad-aa1b-d69cf475dfb8"
      },
      "source": [
        "# Example 1\n",
        "# Numpy arrays are a type of data structures that hold some benefits over \n",
        "# Python lists such as being more compact, faster access in reading \n",
        "# and writing items. To get started, we can create a 1 dimension (1D) Array \n",
        "# using a Python List as shown below.\n",
        "#\n",
        "my_list = [0, 1, 2, 3, 4]\n",
        "npy_my_list = np.array(my_list)\n",
        "\n",
        "print(npy_my_list)"
      ],
      "execution_count": null,
      "outputs": [
        {
          "output_type": "stream",
          "name": "stdout",
          "text": [
            "[0 1 2 3 4]\n"
          ]
        }
      ]
    },
    {
      "cell_type": "code",
      "metadata": {
        "id": "QfwikEjh3-Az",
        "colab": {
          "base_uri": "https://localhost:8080/"
        },
        "outputId": "85fd128b-a60c-4e2c-846c-810b50ee3ae2"
      },
      "source": [
        "# Example 2\n",
        "# We can also create 1D arrays of zeros and 2D arrays of ones \n",
        "# from Numpy builtin functions by;\n",
        "#\n",
        "zeros_arr = np.zeros(5)\n",
        "ones_arr = np.ones([3, 4])\n",
        "\n",
        "print(zeros_arr)\n",
        "print(ones_arr)"
      ],
      "execution_count": null,
      "outputs": [
        {
          "output_type": "stream",
          "name": "stdout",
          "text": [
            "[0. 0. 0. 0. 0.]\n",
            "[[1. 1. 1. 1.]\n",
            " [1. 1. 1. 1.]\n",
            " [1. 1. 1. 1.]]\n"
          ]
        }
      ]
    },
    {
      "cell_type": "code",
      "metadata": {
        "id": "HNCFd0Tr3_Gy",
        "colab": {
          "base_uri": "https://localhost:8080/"
        },
        "outputId": "6c1a1d54-9298-4b58-d421-6249a1a5a0f0"
      },
      "source": [
        "# Example 3\n",
        "# Creating an Array with 3 random values  \n",
        "# \n",
        "rand_arr = np.random.rand(3)\n",
        "\n",
        "print(rand_arr)"
      ],
      "execution_count": null,
      "outputs": [
        {
          "output_type": "stream",
          "name": "stdout",
          "text": [
            "[0.49434625 0.25989723 0.78475864]\n"
          ]
        }
      ]
    },
    {
      "cell_type": "code",
      "metadata": {
        "id": "JmPLdMUBBuMD",
        "colab": {
          "base_uri": "https://localhost:8080/"
        },
        "outputId": "c6ee893e-53ad-4b22-a4ae-a4884b813d29"
      },
      "source": [
        "# Example 4\n",
        "# Creating an array with evenly spaced values within a given interval \n",
        "# as shown using the Numpy arrange function\n",
        "# \n",
        "even_arr = np.arange(0,6,2)\n",
        "\n",
        "print(even_arr)"
      ],
      "execution_count": null,
      "outputs": [
        {
          "output_type": "stream",
          "name": "stdout",
          "text": [
            "[0 2 4]\n"
          ]
        }
      ]
    },
    {
      "cell_type": "code",
      "metadata": {
        "id": "ayLolFnVebvC",
        "colab": {
          "base_uri": "https://localhost:8080/"
        },
        "outputId": "031cd366-4075-48f3-9e16-d35477c4c2f1"
      },
      "source": [
        "# Example 5\n",
        "# Create a 5 x 5 matix with elements from 1 to 25\n",
        "#\n",
        "five_matrix = np.arange(1,26).reshape(5,5)\n",
        "\n",
        "print(five_matrix)"
      ],
      "execution_count": null,
      "outputs": [
        {
          "output_type": "stream",
          "name": "stdout",
          "text": [
            "[[ 1  2  3  4  5]\n",
            " [ 6  7  8  9 10]\n",
            " [11 12 13 14 15]\n",
            " [16 17 18 19 20]\n",
            " [21 22 23 24 25]]\n"
          ]
        }
      ]
    },
    {
      "cell_type": "markdown",
      "metadata": {
        "id": "qcP0FkJq6q-r"
      },
      "source": [
        "### <font color=\"green\">1.1 Challenges"
      ]
    },
    {
      "cell_type": "code",
      "metadata": {
        "id": "MBV-dKC_6tZx",
        "colab": {
          "base_uri": "https://localhost:8080/"
        },
        "outputId": "0ce9658f-7d04-4c64-cd42-79688b0aa659"
      },
      "source": [
        "# Challenge 1\n",
        "# Create a 2D array matix using the list matr = my_mat = [[0,1,2],[3,4,5]]\n",
        "# Hint: Learn from Example 2\n",
        "# \n",
        "list_matr = my_mat = [[0,1,2], [3,4,5]]\n",
        "print(list_matr)\n",
        "print(my_mat)"
      ],
      "execution_count": null,
      "outputs": [
        {
          "output_type": "stream",
          "name": "stdout",
          "text": [
            "[[0, 1, 2], [3, 4, 5]]\n",
            "[[0, 1, 2], [3, 4, 5]]\n"
          ]
        }
      ]
    },
    {
      "cell_type": "code",
      "metadata": {
        "id": "aquNQ1XH6vGL",
        "colab": {
          "base_uri": "https://localhost:8080/"
        },
        "outputId": "efa23f00-53b2-4d60-f1bf-129df5f624cc"
      },
      "source": [
        "# Challenge 2\n",
        "# Create a 2D array of zeros \n",
        "# Hint: Learn from Example 2\n",
        "\n",
        "zeros_arr = np.zeros([3, 5])\n",
        "\n",
        "print(zeros_arr)"
      ],
      "execution_count": null,
      "outputs": [
        {
          "output_type": "stream",
          "name": "stdout",
          "text": [
            "[[0. 0. 0. 0. 0.]\n",
            " [0. 0. 0. 0. 0.]\n",
            " [0. 0. 0. 0. 0.]]\n"
          ]
        }
      ]
    },
    {
      "cell_type": "code",
      "metadata": {
        "id": "tslhBNMQ6wU-",
        "colab": {
          "base_uri": "https://localhost:8080/"
        },
        "outputId": "1ed83bd2-1319-4e79-8d10-51b3c911be4f"
      },
      "source": [
        "# Challenge 3\n",
        "# Create a 2D array of random values\n",
        "# Hint: Learn from Example 2\n",
        "#\n",
        "rand_arr = np.random.rand(4,2)\n",
        "\n",
        "print(rand_arr)"
      ],
      "execution_count": null,
      "outputs": [
        {
          "output_type": "stream",
          "name": "stdout",
          "text": [
            "[[0.54969046 0.07566651]\n",
            " [0.83949758 0.89256626]\n",
            " [0.66120201 0.00951526]\n",
            " [0.74686947 0.47644182]]\n"
          ]
        }
      ]
    },
    {
      "cell_type": "code",
      "metadata": {
        "id": "ukWLHCL0CJx1",
        "colab": {
          "base_uri": "https://localhost:8080/"
        },
        "outputId": "6bc1ca07-744d-4048-e42e-456bf29c5f1b"
      },
      "source": [
        "# Challenge 4\n",
        "# Create a 3D array with values starting 6, stops at 40 with interval of 2\n",
        "#\n",
        "six_matrix = np.arange(6,41, 2)\n",
        "print(six_matrix)"
      ],
      "execution_count": null,
      "outputs": [
        {
          "output_type": "stream",
          "name": "stdout",
          "text": [
            "[ 6  8 10 12 14 16 18 20 22 24 26 28 30 32 34 36 38 40]\n"
          ]
        }
      ]
    },
    {
      "cell_type": "markdown",
      "metadata": {
        "id": "BqyScgzc410j"
      },
      "source": [
        "## 1.2 Attributes and Functions"
      ]
    },
    {
      "cell_type": "code",
      "metadata": {
        "id": "eLjMuBef93ZF",
        "colab": {
          "base_uri": "https://localhost:8080/"
        },
        "outputId": "806f3a42-2d0c-4d6a-9cce-80225efcb9bb"
      },
      "source": [
        "# We use attributes to access information about a particular array,\n",
        "# while functions to perform a certain operations to the array. \n",
        "# We will learn about attributes and functions in this section of the session.\n",
        "# First let's generate a 1D array to work with; we will name \n",
        "# this attribute attribute_arr as shown below;\n",
        "# \n",
        "attribute_arr = np.random.rand(5)\n",
        "\n",
        "print(attribute_arr)"
      ],
      "execution_count": null,
      "outputs": [
        {
          "output_type": "stream",
          "name": "stdout",
          "text": [
            "[0.29780313 0.81002088 0.40410859 0.18161952 0.02965999]\n"
          ]
        }
      ]
    },
    {
      "cell_type": "code",
      "metadata": {
        "id": "LQ8aYHM-45r6",
        "colab": {
          "base_uri": "https://localhost:8080/"
        },
        "outputId": "f7212aae-1017-4c45-98b5-934e96f8a5af"
      },
      "source": [
        "# Example 1\n",
        "# Using the max() function\n",
        "# \n",
        "attribute_arr.max()"
      ],
      "execution_count": null,
      "outputs": [
        {
          "output_type": "execute_result",
          "data": {
            "text/plain": [
              "0.8100208777039563"
            ]
          },
          "metadata": {},
          "execution_count": 14
        }
      ]
    },
    {
      "cell_type": "code",
      "metadata": {
        "id": "WMYeiSXA46iR",
        "colab": {
          "base_uri": "https://localhost:8080/"
        },
        "outputId": "f33fb858-564d-47a6-b441-0bd38c802793"
      },
      "source": [
        "# Example 2\n",
        "# Using the min() function \n",
        "# \n",
        "attribute_arr.min()"
      ],
      "execution_count": null,
      "outputs": [
        {
          "output_type": "execute_result",
          "data": {
            "text/plain": [
              "0.029659986946142136"
            ]
          },
          "metadata": {},
          "execution_count": 15
        }
      ]
    },
    {
      "cell_type": "code",
      "metadata": {
        "id": "EopHxyUU46Y6",
        "colab": {
          "base_uri": "https://localhost:8080/"
        },
        "outputId": "24b7050d-c78b-47dc-d9b3-ff08534d7187"
      },
      "source": [
        "# Example 3\n",
        "# Using the argmax() function to return the indice of the max element of the array \n",
        "#\n",
        "attribute_arr.argmax()"
      ],
      "execution_count": null,
      "outputs": [
        {
          "output_type": "execute_result",
          "data": {
            "text/plain": [
              "1"
            ]
          },
          "metadata": {},
          "execution_count": 16
        }
      ]
    },
    {
      "cell_type": "code",
      "metadata": {
        "id": "n5K9YACf5L_z",
        "colab": {
          "base_uri": "https://localhost:8080/"
        },
        "outputId": "e3f54628-4943-4d65-90ef-29827fb58bcd"
      },
      "source": [
        "# Example 4\n",
        "# Using the argmin() function to return the indice of the min element of the array\n",
        "#\n",
        "attribute_arr.argmin()"
      ],
      "execution_count": null,
      "outputs": [
        {
          "output_type": "execute_result",
          "data": {
            "text/plain": [
              "4"
            ]
          },
          "metadata": {},
          "execution_count": 17
        }
      ]
    },
    {
      "cell_type": "code",
      "metadata": {
        "id": "Sfb8LcQR5R7x",
        "colab": {
          "base_uri": "https://localhost:8080/"
        },
        "outputId": "b9c76f25-4116-4d64-b644-58f2501d9c32"
      },
      "source": [
        "# Example 5\n",
        "# Using the shape attribute to find the size of the array\n",
        "#\n",
        "print(attribute_arr.shape)"
      ],
      "execution_count": null,
      "outputs": [
        {
          "output_type": "stream",
          "name": "stdout",
          "text": [
            "(5,)\n"
          ]
        }
      ]
    },
    {
      "cell_type": "markdown",
      "metadata": {
        "id": "3w2o-QzS60AR"
      },
      "source": [
        "### <font color=\"green\">1.2. Challenges</font>"
      ]
    },
    {
      "cell_type": "code",
      "metadata": {
        "id": "VKNneHD4-4BY",
        "colab": {
          "base_uri": "https://localhost:8080/"
        },
        "outputId": "fa347145-49dc-47ce-e76d-1711eea9759d"
      },
      "source": [
        "# First generate a 2D array to work with\n",
        "attribute_arr = np.random.rand(5, 2)\n",
        "\n",
        "print(attribute_arr)"
      ],
      "execution_count": null,
      "outputs": [
        {
          "output_type": "stream",
          "name": "stdout",
          "text": [
            "[[0.40103995 0.51468544]\n",
            " [0.28774834 0.84214022]\n",
            " [0.08421295 0.14792579]\n",
            " [0.5144797  0.45265531]\n",
            " [0.56752844 0.28817816]]\n"
          ]
        }
      ]
    },
    {
      "cell_type": "code",
      "metadata": {
        "id": "ygUyasmp62jO",
        "colab": {
          "base_uri": "https://localhost:8080/"
        },
        "outputId": "917f63b1-ad7f-49ac-804f-43894242c6d4"
      },
      "source": [
        "# Challenge 1\n",
        "# Then we will find the minimum value of the 2D array\n",
        "#\n",
        "attribute_arr.min()"
      ],
      "execution_count": null,
      "outputs": [
        {
          "output_type": "execute_result",
          "data": {
            "text/plain": [
              "0.08421294603100116"
            ]
          },
          "metadata": {},
          "execution_count": 22
        }
      ]
    },
    {
      "cell_type": "code",
      "metadata": {
        "id": "Vi6G0azm637R",
        "colab": {
          "base_uri": "https://localhost:8080/"
        },
        "outputId": "b4f67f97-5bf7-481f-9815-e1bcdf1058d4"
      },
      "source": [
        "# Challenge 2\n",
        "# We will find the maximum value of the 2D array\n",
        "#\n",
        "attribute_arr.max()"
      ],
      "execution_count": null,
      "outputs": [
        {
          "output_type": "execute_result",
          "data": {
            "text/plain": [
              "0.8421402221911554"
            ]
          },
          "metadata": {},
          "execution_count": 23
        }
      ]
    },
    {
      "cell_type": "code",
      "metadata": {
        "id": "84WVD6TA65Bm",
        "colab": {
          "base_uri": "https://localhost:8080/"
        },
        "outputId": "f4dc482c-73fb-402b-bd61-6e0429343b99"
      },
      "source": [
        "# Challenge 3\n",
        "# Then return the indice of the maximun element of the 2D array \n",
        "# \n",
        "attribute_arr.argmax()"
      ],
      "execution_count": null,
      "outputs": [
        {
          "output_type": "execute_result",
          "data": {
            "text/plain": [
              "3"
            ]
          },
          "metadata": {},
          "execution_count": 24
        }
      ]
    },
    {
      "cell_type": "code",
      "metadata": {
        "id": "kpaSbWQt66Fz",
        "colab": {
          "base_uri": "https://localhost:8080/"
        },
        "outputId": "9261ead8-0c96-455d-e550-4e3b3e6798bd"
      },
      "source": [
        "# Challenge 4\n",
        "# Again return the indice of the minimum element of the 2D array\n",
        "attribute_arr.argmin()"
      ],
      "execution_count": null,
      "outputs": [
        {
          "output_type": "execute_result",
          "data": {
            "text/plain": [
              "4"
            ]
          },
          "metadata": {},
          "execution_count": 25
        }
      ]
    },
    {
      "cell_type": "code",
      "metadata": {
        "id": "0Snj7gJo67OU",
        "colab": {
          "base_uri": "https://localhost:8080/"
        },
        "outputId": "fcca6367-6ec2-404e-d32b-0500b064bbf7"
      },
      "source": [
        "# Challenge 5\n",
        "# Lastly, return the data type of the generated 2D array using dtype\n",
        "# \n",
        "print(attribute_arr.dtype)"
      ],
      "execution_count": null,
      "outputs": [
        {
          "output_type": "stream",
          "name": "stdout",
          "text": [
            "float64\n"
          ]
        }
      ]
    },
    {
      "cell_type": "markdown",
      "metadata": {
        "id": "lpP7qc835YZX"
      },
      "source": [
        "## 1.3  Indexing  and Broadcasting"
      ]
    },
    {
      "cell_type": "code",
      "metadata": {
        "id": "bd0imU6GKHfs",
        "colab": {
          "base_uri": "https://localhost:8080/"
        },
        "outputId": "d299aba7-8a63-47cc-e068-e6613cfb5d18"
      },
      "source": [
        "# Creating an array to work with. The array will be comprised of even numbers from 0 t0 15\n",
        "in_array = np.arange(0,15,2)\n",
        "\n",
        "print(in_array)"
      ],
      "execution_count": null,
      "outputs": [
        {
          "output_type": "stream",
          "name": "stdout",
          "text": [
            "[ 0  2  4  6  8 10 12 14]\n"
          ]
        }
      ]
    },
    {
      "cell_type": "code",
      "metadata": {
        "id": "e_yW1XvJ5dxC",
        "colab": {
          "base_uri": "https://localhost:8080/"
        },
        "outputId": "06264a99-f954-4807-97fa-08598a2ce063"
      },
      "source": [
        "# Example 1\n",
        "# Bracketing indexing allows us to access\n",
        "# elements from a Numpy array as shown\n",
        "# \n",
        "print(in_array[2]) # Displays the third element in the list\n",
        "print(in_array[1:5]) # Displays values from the second element to the fifth element\n",
        "print(in_array[3:]) # Displays the 4th element to the last element in the list"
      ],
      "execution_count": null,
      "outputs": [
        {
          "output_type": "stream",
          "name": "stdout",
          "text": [
            "4\n",
            "[2 4 6 8]\n",
            "[ 6  8 10 12 14]\n"
          ]
        }
      ]
    },
    {
      "cell_type": "code",
      "metadata": {
        "id": "NzNROPLy5vg3",
        "colab": {
          "base_uri": "https://localhost:8080/"
        },
        "outputId": "c16df774-d256-4a41-b91d-36a52d9ee98c"
      },
      "source": [
        "# Example 2\n",
        "# Arrays with different sizes cannot be added, subtracted or used in any arithmetic.\n",
        "# one way of solving this is to duplicate the smaller array so that its size is the same as the larger array.\n",
        "# This process is called broadasting and is available in numpy. \n",
        "\n",
        "# Broadcasting is Numpy's terminology for performing mathematical operations \n",
        "# between arrays with different shapes. This example provides insights on \n",
        "# broadcasting. First, lets run this cell then later uncomment each block trying\n",
        "# to understand what happens. \n",
        "# Once you're done with the final block, you can get a detailed explanation \n",
        "# on broadcasting here: http://bit.ly/NumpyBroadcasting\n",
        "# \n",
        "\n",
        "in_array[0:2] = 100\n",
        "print(in_array)\n",
        "\n",
        "# First reseting our array i.e. recreating it\n",
        "in_array = np.arange(0,11)\n",
        "print(in_array)\n",
        "\n",
        "# Then making a copy \n",
        "in_array_copy = in_array.copy()\n",
        "print(in_array_copy)\n",
        "\n",
        "# Afterwards creating a new array upon slicing\n",
        "slice_of_arr = in_array[0:5]\n",
        "print(slice_of_arr)\n",
        "\n",
        "# Changing the Slice\n",
        "slice_of_arr[:]=22\n",
        "print(slice_of_arr)\n",
        "\n",
        "# NB: Changes also occur in our original array\n",
        "print(in_array)\n",
        "\n",
        "# check your copy\n",
        "print(in_array_copy)"
      ],
      "execution_count": null,
      "outputs": [
        {
          "output_type": "stream",
          "name": "stdout",
          "text": [
            "[100 100   4   6   8  10  12  14]\n",
            "[ 0  1  2  3  4  5  6  7  8  9 10]\n",
            "[ 0  1  2  3  4  5  6  7  8  9 10]\n",
            "[0 1 2 3 4]\n",
            "[22 22 22 22 22]\n",
            "[22 22 22 22 22  5  6  7  8  9 10]\n",
            "[ 0  1  2  3  4  5  6  7  8  9 10]\n"
          ]
        }
      ]
    },
    {
      "cell_type": "code",
      "metadata": {
        "id": "juXc8Yem584S",
        "colab": {
          "base_uri": "https://localhost:8080/"
        },
        "outputId": "c14988a5-cadc-4ed2-df1e-bbeecab0557b"
      },
      "source": [
        "# Example 3\n",
        "# Indexing a 2D array (matrices)\n",
        "# \n",
        "\n",
        "ind_arr_2d = np.array(([21, 22, 23], [11, 22, 33], [43, 77, 89]))\n",
        "print(ind_arr_2d)\n",
        "\n",
        "# Selecting element at row index 1 & column index 2\n",
        "#\n",
        "print(ind_arr_2d[1][2])\n",
        "\n",
        "# Selecting a Row at index 1\n",
        "#\n",
        "row = ind_arr_2d[1]\n",
        "print(row)\n",
        "\n",
        "# Selecting a column at index 1 \n",
        "# \n",
        "column = ind_arr_2d[:, 1]\n",
        "print(column)"
      ],
      "execution_count": null,
      "outputs": [
        {
          "output_type": "stream",
          "name": "stdout",
          "text": [
            "[[21 22 23]\n",
            " [11 22 33]\n",
            " [43 77 89]]\n",
            "33\n",
            "[11 22 33]\n",
            "[22 22 77]\n"
          ]
        }
      ]
    },
    {
      "cell_type": "code",
      "metadata": {
        "id": "l-PTQXUi6Cxp",
        "colab": {
          "base_uri": "https://localhost:8080/"
        },
        "outputId": "1069bd53-2980-4d01-b261-f083779b2b8b"
      },
      "source": [
        "# Example 4 \n",
        "# Fancy Indexing allows us to select entire rows or columns out of order\n",
        "# as shown\n",
        "# \n",
        "\n",
        "# First creating an array or zeros\n",
        "arr2d = np.zeros((10,10))\n",
        "print(arr2d)\n",
        "\n",
        "# Length of array\n",
        "arr_length = arr2d.shape[1]\n",
        "print(arr_length)\n",
        "\n",
        "# creating the array \n",
        "for i in range(arr_length):\n",
        "    arr2d[i] = i\n",
        "    \n",
        "print(arr2d)\n",
        "\n",
        "# Now selecting the first, third and the fourth rows via fancy indexing\n",
        "arr2d[[0,2,3]]"
      ],
      "execution_count": null,
      "outputs": [
        {
          "output_type": "stream",
          "name": "stdout",
          "text": [
            "[[0. 0. 0. 0. 0. 0. 0. 0. 0. 0.]\n",
            " [0. 0. 0. 0. 0. 0. 0. 0. 0. 0.]\n",
            " [0. 0. 0. 0. 0. 0. 0. 0. 0. 0.]\n",
            " [0. 0. 0. 0. 0. 0. 0. 0. 0. 0.]\n",
            " [0. 0. 0. 0. 0. 0. 0. 0. 0. 0.]\n",
            " [0. 0. 0. 0. 0. 0. 0. 0. 0. 0.]\n",
            " [0. 0. 0. 0. 0. 0. 0. 0. 0. 0.]\n",
            " [0. 0. 0. 0. 0. 0. 0. 0. 0. 0.]\n",
            " [0. 0. 0. 0. 0. 0. 0. 0. 0. 0.]\n",
            " [0. 0. 0. 0. 0. 0. 0. 0. 0. 0.]]\n",
            "10\n",
            "[[0. 0. 0. 0. 0. 0. 0. 0. 0. 0.]\n",
            " [1. 1. 1. 1. 1. 1. 1. 1. 1. 1.]\n",
            " [2. 2. 2. 2. 2. 2. 2. 2. 2. 2.]\n",
            " [3. 3. 3. 3. 3. 3. 3. 3. 3. 3.]\n",
            " [4. 4. 4. 4. 4. 4. 4. 4. 4. 4.]\n",
            " [5. 5. 5. 5. 5. 5. 5. 5. 5. 5.]\n",
            " [6. 6. 6. 6. 6. 6. 6. 6. 6. 6.]\n",
            " [7. 7. 7. 7. 7. 7. 7. 7. 7. 7.]\n",
            " [8. 8. 8. 8. 8. 8. 8. 8. 8. 8.]\n",
            " [9. 9. 9. 9. 9. 9. 9. 9. 9. 9.]]\n"
          ]
        },
        {
          "output_type": "execute_result",
          "data": {
            "text/plain": [
              "array([[0., 0., 0., 0., 0., 0., 0., 0., 0., 0.],\n",
              "       [2., 2., 2., 2., 2., 2., 2., 2., 2., 2.],\n",
              "       [3., 3., 3., 3., 3., 3., 3., 3., 3., 3.]])"
            ]
          },
          "metadata": {},
          "execution_count": 31
        }
      ]
    },
    {
      "cell_type": "markdown",
      "metadata": {
        "id": "vtbzfkVu7A_i"
      },
      "source": [
        "### <font color=\"green\">1.3. Challenges</font>"
      ]
    },
    {
      "cell_type": "code",
      "metadata": {
        "id": "AoybsIQPODZD",
        "colab": {
          "base_uri": "https://localhost:8080/"
        },
        "outputId": "5eba1a91-cdc9-40c1-adf3-7b190244ded2"
      },
      "source": [
        "# First, we create a 2D array to work with\n",
        "array_2d = np.array(([15,20,25],[15,20,25],[30,35,40]))\n",
        "print(array_2d)\n"
      ],
      "execution_count": null,
      "outputs": [
        {
          "output_type": "stream",
          "name": "stdout",
          "text": [
            "[[15 20 25]\n",
            " [15 20 25]\n",
            " [30 35 40]]\n"
          ]
        }
      ]
    },
    {
      "cell_type": "code",
      "metadata": {
        "id": "t2DLZeOs7Fej",
        "colab": {
          "base_uri": "https://localhost:8080/"
        },
        "outputId": "433d1cee-1905-4c12-f1eb-42a73d692179"
      },
      "source": [
        "# Challenge 1\n",
        "# Let's get the 3rd row of the array\n",
        "# \n",
        "array_2d[2]"
      ],
      "execution_count": null,
      "outputs": [
        {
          "output_type": "execute_result",
          "data": {
            "text/plain": [
              "array([30, 35, 40])"
            ]
          },
          "metadata": {},
          "execution_count": 54
        }
      ]
    },
    {
      "cell_type": "code",
      "metadata": {
        "id": "mrcHn88Q7GuP",
        "colab": {
          "base_uri": "https://localhost:8080/"
        },
        "outputId": "4497aec2-7be6-4574-9bb0-2b86c7566121"
      },
      "source": [
        "# Challenge 2\n",
        "# Let's get the individual element 35\n",
        "# using the format arr_2d[row][col] or arr_2d[row,col]\n",
        "#\n",
        "array_2d[[2],[1]]"
      ],
      "execution_count": null,
      "outputs": [
        {
          "output_type": "execute_result",
          "data": {
            "text/plain": [
              "array([35])"
            ]
          },
          "metadata": {},
          "execution_count": 55
        }
      ]
    },
    {
      "cell_type": "code",
      "metadata": {
        "id": "2Q_POLIs7IKI",
        "colab": {
          "base_uri": "https://localhost:8080/"
        },
        "outputId": "187d56a0-8c75-4df0-ffa7-5009ba492fa6"
      },
      "source": [
        "# Challenge 3\n",
        "# Let's slice the array (2,2) from top right corner\n",
        "# \n",
        "array_2d[[2],[2]]\n",
        "print(array_2d)\n",
        "\n",
        "array_2d = np.arange(0, 40)\n",
        "print(array_2d)\n",
        "\n",
        "slice_of_arr = array_2d[0:25]\n",
        "print(slice_of_arr)"
      ],
      "execution_count": null,
      "outputs": [
        {
          "output_type": "stream",
          "name": "stdout",
          "text": [
            "[[15 20 25]\n",
            " [15 20 25]\n",
            " [30 35 40]]\n",
            "[ 0  1  2  3  4  5  6  7  8  9 10 11 12 13 14 15 16 17 18 19 20 21 22 23\n",
            " 24 25 26 27 28 29 30 31 32 33 34 35 36 37 38 39]\n",
            "[ 0  1  2  3  4  5  6  7  8  9 10 11 12 13 14 15 16 17 18 19 20 21 22 23\n",
            " 24]\n"
          ]
        }
      ]
    },
    {
      "cell_type": "code",
      "metadata": {
        "id": "dumxoNxX7JKO",
        "colab": {
          "base_uri": "https://localhost:8080/"
        },
        "outputId": "b69a96f8-e116-41d5-95b6-214da828469f"
      },
      "source": [
        "# Challenge 4\n",
        "# Let's create a random 6 x 4 matrix then select the 3rd and 4th rows\n",
        "#\n",
        "rand_arr = np.random.rand(6,4)\n",
        "print(rand_arr)\n",
        "\n",
        "rand_arr[[2,3]]"
      ],
      "execution_count": null,
      "outputs": [
        {
          "output_type": "stream",
          "name": "stdout",
          "text": [
            "[[0.11199072 0.0697082  0.10209571 0.21353873]\n",
            " [0.72623402 0.11441817 0.88918909 0.03616243]\n",
            " [0.88030044 0.14870032 0.68200921 0.61979928]\n",
            " [0.88687885 0.88247087 0.37170451 0.56808801]\n",
            " [0.99085011 0.92405239 0.91016531 0.43375029]\n",
            " [0.13003943 0.52558915 0.16618173 0.78099686]]\n"
          ]
        },
        {
          "output_type": "execute_result",
          "data": {
            "text/plain": [
              "array([[0.88030044, 0.14870032, 0.68200921, 0.61979928],\n",
              "       [0.88687885, 0.88247087, 0.37170451, 0.56808801]])"
            ]
          },
          "metadata": {},
          "execution_count": 61
        }
      ]
    },
    {
      "cell_type": "markdown",
      "metadata": {
        "id": "7HM2oS-c6Fyz"
      },
      "source": [
        "## 1.4 Conditional Selection"
      ]
    },
    {
      "cell_type": "code",
      "metadata": {
        "id": "X02c9mGxaRdu",
        "colab": {
          "base_uri": "https://localhost:8080/"
        },
        "outputId": "9bac2a3c-a231-484d-cddb-62c2b30cfce3"
      },
      "source": [
        "# We can use conditions to check for whether elements in a certain range satisfy a condition.\n",
        "# Let's first creating an array. Do you remember what the arrange function does?\n",
        "#\n",
        "conditional_arr = np.arange(1,11)\n",
        "print(conditional_arr)"
      ],
      "execution_count": null,
      "outputs": [
        {
          "output_type": "stream",
          "name": "stdout",
          "text": [
            "[ 1  2  3  4  5  6  7  8  9 10]\n"
          ]
        }
      ]
    },
    {
      "cell_type": "code",
      "metadata": {
        "id": "ekQ-AjCS6Lf1",
        "colab": {
          "base_uri": "https://localhost:8080/"
        },
        "outputId": "7c507799-5b68-47b1-f357-0b0dc53e7a40"
      },
      "source": [
        "# Example 1  \n",
        "# What do we do here?\n",
        "#\n",
        "conditional_arr > 3"
      ],
      "execution_count": null,
      "outputs": [
        {
          "output_type": "execute_result",
          "data": {
            "text/plain": [
              "array([False, False, False,  True,  True,  True,  True,  True,  True,\n",
              "        True])"
            ]
          },
          "metadata": {},
          "execution_count": 5
        }
      ]
    },
    {
      "cell_type": "code",
      "metadata": {
        "id": "_CMv_cG36P8s",
        "colab": {
          "base_uri": "https://localhost:8080/"
        },
        "outputId": "5791996d-2dd1-4a03-cdd3-ada4f0fd8c1e"
      },
      "source": [
        "# Example 2\n",
        "# What happens here?\n",
        "#\n",
        "bool_arr = conditional_arr > 3\n",
        "print(bool_arr)\n",
        "\n",
        "print(conditional_arr[bool_arr])"
      ],
      "execution_count": null,
      "outputs": [
        {
          "output_type": "stream",
          "name": "stdout",
          "text": [
            "[False False False  True  True  True  True  True  True  True]\n",
            "[ 4  5  6  7  8  9 10]\n"
          ]
        }
      ]
    },
    {
      "cell_type": "code",
      "metadata": {
        "id": "ZmMJyzcM6X8d",
        "colab": {
          "base_uri": "https://localhost:8080/"
        },
        "outputId": "f53e2e0e-ec5f-49fb-9955-430becfc0659"
      },
      "source": [
        "# Example 3\n",
        "# Finally, let's select those values in our array that satisfy our condition\n",
        "# \n",
        "print(conditional_arr[conditional_arr > 4])"
      ],
      "execution_count": null,
      "outputs": [
        {
          "output_type": "stream",
          "name": "stdout",
          "text": [
            "[ 5  6  7  8  9 10]\n"
          ]
        }
      ]
    },
    {
      "cell_type": "markdown",
      "metadata": {
        "id": "FXNTaawR7Lly"
      },
      "source": [
        "### <font color=\"green\">1.4 Challenges</font>"
      ]
    },
    {
      "cell_type": "code",
      "metadata": {
        "id": "JvOfEoCQdPW3",
        "colab": {
          "base_uri": "https://localhost:8080/"
        },
        "outputId": "6f7b01e3-3b60-4071-dee1-873ab0d117c5"
      },
      "source": [
        "# Creating the array to be used below\n",
        "#\n",
        "x = np.array([[0, 1, 2], [3, 4, 5], [6, 7, 8]])\n",
        "print(x)"
      ],
      "execution_count": null,
      "outputs": [
        {
          "output_type": "stream",
          "name": "stdout",
          "text": [
            "[[0 1 2]\n",
            " [3 4 5]\n",
            " [6 7 8]]\n"
          ]
        }
      ]
    },
    {
      "cell_type": "code",
      "metadata": {
        "id": "X8wmyySf7TRt",
        "colab": {
          "base_uri": "https://localhost:8080/"
        },
        "outputId": "9b197d15-f658-48ae-dc9b-498d08cfa3c5"
      },
      "source": [
        "# Challenge 1\n",
        "# Get the 2nd row using conditional selection\n",
        "#\n",
        "print(x[1])"
      ],
      "execution_count": null,
      "outputs": [
        {
          "output_type": "stream",
          "name": "stdout",
          "text": [
            "[3 4 5]\n"
          ]
        }
      ]
    },
    {
      "cell_type": "code",
      "metadata": {
        "id": "h3uZ6qls7UMq",
        "colab": {
          "base_uri": "https://localhost:8080/"
        },
        "outputId": "f4afa3b7-399c-4dcc-c7da-794a226e84de"
      },
      "source": [
        "# Challenge 2\n",
        "# Which elements are greater than two?\n",
        "#\n",
        "print(x[x>2])"
      ],
      "execution_count": null,
      "outputs": [
        {
          "output_type": "stream",
          "name": "stdout",
          "text": [
            "[3 4 5 6 7 8]\n"
          ]
        }
      ]
    },
    {
      "cell_type": "code",
      "metadata": {
        "id": "yKfmU0xF7U-V",
        "colab": {
          "base_uri": "https://localhost:8080/"
        },
        "outputId": "a9313bf7-fcaa-47ec-d5c7-421ddacb89d2"
      },
      "source": [
        "# Challenge 3\n",
        "# Get the array [7, 8] from the x array\n",
        "# \n",
        "print(x[x>6])"
      ],
      "execution_count": null,
      "outputs": [
        {
          "output_type": "stream",
          "name": "stdout",
          "text": [
            "[7 8]\n"
          ]
        }
      ]
    },
    {
      "cell_type": "markdown",
      "metadata": {
        "id": "5mWusWpH6eff"
      },
      "source": [
        "## 1.5 Operations"
      ]
    },
    {
      "cell_type": "code",
      "metadata": {
        "id": "JIDxVUI0nVEY",
        "colab": {
          "base_uri": "https://localhost:8080/"
        },
        "outputId": "5bbe8e15-b6c6-4043-f849-6e2c81035d44"
      },
      "source": [
        "# Creating the array that we will use below:\n",
        "# \n",
        "a = np.arange(0,5)\n",
        "print(a)"
      ],
      "execution_count": null,
      "outputs": [
        {
          "output_type": "stream",
          "name": "stdout",
          "text": [
            "[0 1 2 3 4]\n"
          ]
        }
      ]
    },
    {
      "cell_type": "code",
      "metadata": {
        "id": "YRtb1N4i6hbE",
        "colab": {
          "base_uri": "https://localhost:8080/"
        },
        "outputId": "143d4e1e-b250-40dd-c173-f96b0cf68a55"
      },
      "source": [
        "# Example 1\n",
        "# Arithmetic Operations\n",
        "# \n",
        "addition_arr = a + a\n",
        "print(addition_arr)\n",
        "\n",
        "subtration_arr = a - a\n",
        "print(addition_arr)"
      ],
      "execution_count": null,
      "outputs": [
        {
          "output_type": "stream",
          "name": "stdout",
          "text": [
            "[0 2 4 6 8]\n",
            "[0 2 4 6 8]\n"
          ]
        }
      ]
    },
    {
      "cell_type": "code",
      "source": [
        "subtration_arr = a - a\n",
        "print(addition_arr)"
      ],
      "metadata": {
        "colab": {
          "base_uri": "https://localhost:8080/"
        },
        "id": "jenaq7v5duI_",
        "outputId": "23980ab0-c27e-4636-f81c-29de3e7bf418"
      },
      "execution_count": null,
      "outputs": [
        {
          "output_type": "stream",
          "name": "stdout",
          "text": [
            "[0 2 4 6 8]\n"
          ]
        }
      ]
    },
    {
      "cell_type": "code",
      "metadata": {
        "id": "33NeFWBs6l13",
        "colab": {
          "base_uri": "https://localhost:8080/"
        },
        "outputId": "e33a692f-c706-4773-e78a-1b0cadceaee7"
      },
      "source": [
        "# Example 2\n",
        "# Universal Array Functions\n",
        "# \n",
        "\n",
        "# square root\n",
        "sqr_arr = np.sqrt(a)\n",
        "print(sqr_arr)\n",
        "\n",
        "# exponential\n",
        "exp_arr = np.exp(a)\n",
        "print(exp_arr)"
      ],
      "execution_count": null,
      "outputs": [
        {
          "output_type": "stream",
          "name": "stdout",
          "text": [
            "[0.         1.         1.41421356 1.73205081 2.        ]\n",
            "[ 1.          2.71828183  7.3890561  20.08553692 54.59815003]\n"
          ]
        }
      ]
    },
    {
      "cell_type": "markdown",
      "metadata": {
        "id": "RMVtc9Bs7bb6"
      },
      "source": [
        "### <font color=\"green\">1.5 Challenges</font>"
      ]
    },
    {
      "cell_type": "code",
      "metadata": {
        "id": "m8pWm82gkHqk",
        "colab": {
          "base_uri": "https://localhost:8080/"
        },
        "outputId": "ff731999-7679-444e-e914-d0e96f54a2a0"
      },
      "source": [
        "# Challenge 1\n",
        "# Raise the a array created above to the power of 2\n",
        "#\n",
        "a = np.arange(0,5)\n",
        "c = a**2\n",
        "print(c)"
      ],
      "execution_count": null,
      "outputs": [
        {
          "output_type": "stream",
          "name": "stdout",
          "text": [
            "[ 0  1  4  9 16]\n"
          ]
        }
      ]
    },
    {
      "cell_type": "code",
      "metadata": {
        "id": "y1CxcuFj7ehe",
        "colab": {
          "base_uri": "https://localhost:8080/"
        },
        "outputId": "21152e32-a5c4-43bc-df46-65ec87930d85"
      },
      "source": [
        "# Challenge 2\n",
        "# Find the log of a using log(), \n",
        "# the Universal Array Functions\n",
        "#\n",
        "a = np.arange(0,5)\n",
        "n = np.log(a)\n",
        "print(n)"
      ],
      "execution_count": null,
      "outputs": [
        {
          "output_type": "stream",
          "name": "stdout",
          "text": [
            "[      -inf 0.         0.69314718 1.09861229 1.38629436]\n"
          ]
        },
        {
          "output_type": "stream",
          "name": "stderr",
          "text": [
            "/usr/local/lib/python3.7/dist-packages/ipykernel_launcher.py:6: RuntimeWarning: divide by zero encountered in log\n",
            "  \n"
          ]
        }
      ]
    },
    {
      "cell_type": "code",
      "metadata": {
        "id": "QB-54zeYjWOa"
      },
      "source": [
        "# Challenge 3\n",
        "# This of a dataset then determine where you can use the \n",
        "# numpy concepts that you learnt in this session?\n",
        "# Then explain them to your peer.\n",
        "\n",
        "shapes\n",
        "arithmetics"
      ],
      "execution_count": null,
      "outputs": []
    }
  ]
}